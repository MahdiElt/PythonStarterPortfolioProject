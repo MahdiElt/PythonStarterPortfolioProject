{
 "cells": [
  {
   "cell_type": "markdown",
   "metadata": {},
   "source": [
    "# U.S. Medical Insurance Costs"
   ]
  },
  {
   "cell_type": "code",
   "execution_count": 51,
   "metadata": {
    "tags": []
   },
   "outputs": [],
   "source": [
    "import csv\n",
    "with open(\"insurance.csv\") as insurance_data:\n",
    "    insurance_data_dict = csv.DictReader(insurance_data)\n",
    "    age_list = []\n",
    "    sex_list = []\n",
    "    bmi_list = []\n",
    "    children_list = []\n",
    "    smoker_list = []\n",
    "    region_list = []\n",
    "    charges_list = []\n",
    "\n",
    "    for row in insurance_data_dict:\n",
    "        age_list.append(float(row['age']))\n",
    "        sex_list.append(row['sex'])\n",
    "        bmi_list.append(float(row['bmi']))\n",
    "        children_list.append(float(row['children']))\n",
    "        smoker_list.append(row['smoker'])\n",
    "        region_list.append(row['region'])\n",
    "        charges_list.append(float(row['charges']))\n",
    "\n",
    "patient_dictionary = {'Ages': age_list, 'Sexes': sex_list, \"BMIs\": bmi_list, \"Children\": children_list, \"Smoker\": smoker_list, \"Region\": region_list, \"Charges\": charges_list}"
   ]
  },
  {
   "cell_type": "code",
   "execution_count": 52,
   "metadata": {},
   "outputs": [],
   "source": [
    "class PatientData:\n",
    "    def __init__(self,age, sex, bmi, children, smoker, region, charges):   # This class takes in list arguments to analyze data\n",
    "                                                                           # creating a class with methods that will give me\n",
    "                                                                           # averages and populations for given data\n",
    "        self.age = age\n",
    "        self.sex = sex\n",
    "        self.bmi = bmi\n",
    "        self.children = children\n",
    "        self.smoker = smoker\n",
    "        self.region = region\n",
    "        self.charges = charges\n",
    "\n",
    "    def population(self):\n",
    "        total_pop = 0\n",
    "        for age in self.age:\n",
    "            total_pop += 1\n",
    "        return \"There are {} patients in this data set\".format(total_pop)\n",
    "    \n",
    "    def average_age(self):\n",
    "        total_age = 0\n",
    "        for age in self.age:\n",
    "            total_age += age\n",
    "        return \"Average patient age: {}\".format(str(total_age/len(self.age)))\n",
    "    \n",
    "    def sex_dist(self):\n",
    "        num_males = 0\n",
    "        num_females = 0\n",
    "        for sex in self.sex:\n",
    "            if sex == 'male':\n",
    "                num_males +=1\n",
    "            if sex == 'female':\n",
    "                num_females += 1\n",
    "        return \"There are {} males and {} females in this data set.\".format(num_males, num_females)\n",
    "\n",
    "    def average_bmi(self):\n",
    "        total_bmi = 0\n",
    "        for bmi in self.bmi:\n",
    "            total_bmi += bmi\n",
    "        return \"Average Patient BMI: {}\".format(str(total_bmi/ len(self.bmi)))\n",
    "\n",
    "    def num_smokers(self):\n",
    "        num_smokers = 0\n",
    "        num_nonsmokers = 0\n",
    "        for yes_no in self.smoker:\n",
    "            if yes_no == 'yes':\n",
    "                num_smokers += 1\n",
    "            if yes_no == 'no':\n",
    "                num_nonsmokers +=1 \n",
    "        return \"There are {} smokers and {} non-smokers\".format(num_smokers, num_nonsmokers)\n",
    "\n",
    "    def average_num_children(self):\n",
    "        total_children = 0\n",
    "        for child in self.children:\n",
    "            total_children += child\n",
    "        return \"The average patient has {} children\".format(str(total_children/len(self.children)))\n",
    "    \n",
    "    def average_charges(self):\n",
    "        total_charges = 0\n",
    "        for charge in self.charges:\n",
    "            total_charges += charge\n",
    "        return \"Average Charges: {} dollars\".format(str(total_charges/len(self.charges)))"
   ]
  },
  {
   "cell_type": "code",
   "execution_count": 53,
   "metadata": {},
   "outputs": [
    {
     "output_type": "stream",
     "name": "stdout",
     "text": [
      "There are 1338 patients in this data set\nAverage patient age: 39.20702541106129\nAverage Patient BMI: 30.663396860986538\nThere are 676 males and 662 females in this data set.\nThere are 274 smokers and 1064 non-smokers\nThe average patient has 1.0949177877429 children\nAverage Charges: 13270.422265141257 dollars\n"
     ]
    }
   ],
   "source": [
    "patient_data = PatientData(age_list, sex_list, bmi_list, children_list, smoker_list, region_list, charges_list)\n",
    "print(patient_data.population())\n",
    "print(patient_data.average_age())\n",
    "print(patient_data.average_bmi())\n",
    "print(patient_data.sex_dist())\n",
    "print(patient_data.num_smokers())\n",
    "print(patient_data.average_num_children())\n",
    "print(patient_data.average_charges())"
   ]
  },
  {
   "cell_type": "code",
   "execution_count": 54,
   "metadata": {},
   "outputs": [],
   "source": [
    "# Now that i have some idea of the averages and distributions for the data, im now going to make dictionaries for the individual regions\n",
    "# sexes, smoker and parental status"
   ]
  },
  {
   "cell_type": "code",
   "execution_count": 60,
   "metadata": {},
   "outputs": [
    {
     "output_type": "execute_result",
     "data": {
      "text/plain": [
       "dict_keys(['Ages', 'Sexes', 'BMIs', 'Children', 'Smoker', 'Region', 'Charges'])"
      ]
     },
     "metadata": {},
     "execution_count": 60
    }
   ],
   "source": [
    "patient_dictionary.keys()"
   ]
  },
  {
   "cell_type": "code",
   "execution_count": 101,
   "metadata": {
    "tags": []
   },
   "outputs": [],
   "source": [
    "male_dictionary = {\"Ages\": [], \"Sexes\": [], \"BMIs\": [], \"Children\": [], \"Smoker\": [], \"Region\" : [], \"Charges\": []}\n",
    "female_dictionary = {\"Ages\": [], \"Sexes\": [], \"BMIs\": [], \"Children\": [], \"Smoker\": [], \"Region\" : [], \"Charges\": []}\n",
    "smoker_dictionary = {\"Ages\": [], \"Sexes\": [], \"BMIs\": [], \"Children\": [], \"Smoker\": [], \"Region\" : [], \"Charges\": []}\n",
    "nonsmoker_dictionary = {\"Ages\": [], \"Sexes\": [], \"BMIs\": [], \"Children\": [], \"Smoker\": [], \"Region\" : [], \"Charges\": []}\n",
    "parent_dictionary = {\"Ages\": [],  \"Sexes\": [], \"BMIs\": [], \"Children\": [], \"Smoker\": [], \"Region\" : [], \"Charges\": []}\n",
    "nonparent_dictionary = {\"Ages\": [], \"Sexes\": [], \"BMIs\": [], \"Children\": [], \"Smoker\": [], \"Region\" : [], \"Charges\": []}\n",
    "\n",
    "#Lists are indexed from 0 up to 1337\n",
    "#There is DEFINATLEY a function to replace all this looping\n",
    "\n",
    "for i in range(1338):\n",
    "    if patient_dictionary[\"Sexes\"][i] == 'male':\n",
    "        male_dictionary[\"Ages\"].append(patient_dictionary[\"Ages\"][i])\n",
    "        male_dictionary[\"Sexes\"].append(patient_dictionary[\"Sexes\"][i])\n",
    "        male_dictionary[\"BMIs\"].append(patient_dictionary[\"BMIs\"][i])\n",
    "        male_dictionary[\"Children\"].append(patient_dictionary[\"Children\"][i])\n",
    "        male_dictionary[\"Smoker\"].append(patient_dictionary[\"Smoker\"][i])\n",
    "        male_dictionary[\"Region\"].append(patient_dictionary[\"Region\"][i])\n",
    "        male_dictionary[\"Charges\"].append(patient_dictionary[\"Charges\"][i])\n",
    "    \n",
    "    if patient_dictionary[\"Sexes\"][i] == 'female':\n",
    "        female_dictionary[\"Ages\"].append(patient_dictionary[\"Ages\"][i])\n",
    "        female_dictionary[\"Sexes\"].append(patient_dictionary[\"Sexes\"][i])\n",
    "        female_dictionary[\"BMIs\"].append(patient_dictionary[\"BMIs\"][i])\n",
    "        female_dictionary[\"Children\"].append(patient_dictionary[\"Children\"][i])\n",
    "        female_dictionary[\"Smoker\"].append(patient_dictionary[\"Smoker\"][i])\n",
    "        female_dictionary[\"Region\"].append(patient_dictionary[\"Region\"][i])\n",
    "        female_dictionary[\"Charges\"].append(patient_dictionary[\"Charges\"][i])\n",
    "\n",
    "    if patient_dictionary[\"Smoker\"][i] == 'yes':\n",
    "        smoker_dictionary[\"Ages\"].append(patient_dictionary[\"Ages\"][i])\n",
    "        smoker_dictionary[\"Sexes\"].append(patient_dictionary[\"Sexes\"][i])\n",
    "        smoker_dictionary[\"BMIs\"].append(patient_dictionary[\"BMIs\"][i])\n",
    "        smoker_dictionary[\"Children\"].append(patient_dictionary[\"Children\"][i])\n",
    "        smoker_dictionary[\"Smoker\"].append(patient_dictionary[\"Smoker\"][i])\n",
    "        smoker_dictionary[\"Region\"].append(patient_dictionary[\"Region\"][i])\n",
    "        smoker_dictionary[\"Charges\"].append(patient_dictionary[\"Charges\"][i])\n",
    "    \n",
    "    if patient_dictionary[\"Smoker\"][i] == 'no':\n",
    "        nonsmoker_dictionary[\"Ages\"].append(patient_dictionary[\"Ages\"][i])\n",
    "        nonsmoker_dictionary[\"Sexes\"].append(patient_dictionary[\"Sexes\"][i])\n",
    "        nonsmoker_dictionary[\"BMIs\"].append(patient_dictionary[\"BMIs\"][i])\n",
    "        nonsmoker_dictionary[\"Children\"].append(patient_dictionary[\"Children\"][i])\n",
    "        nonsmoker_dictionary[\"Smoker\"].append(patient_dictionary[\"Smoker\"][i])\n",
    "        nonsmoker_dictionary[\"Region\"].append(patient_dictionary[\"Region\"][i])\n",
    "        nonsmoker_dictionary[\"Charges\"].append(patient_dictionary[\"Charges\"][i])\n",
    "\n",
    "    if patient_dictionary[\"Children\"][i] > 0:\n",
    "        parent_dictionary[\"Ages\"].append(patient_dictionary[\"Ages\"][i])\n",
    "        parent_dictionary[\"Sexes\"].append(patient_dictionary[\"Sexes\"][i])\n",
    "        parent_dictionary[\"BMIs\"].append(patient_dictionary[\"BMIs\"][i])\n",
    "        parent_dictionary[\"Children\"].append(patient_dictionary[\"Children\"][i])\n",
    "        parent_dictionary[\"Smoker\"].append(patient_dictionary[\"Smoker\"][i])\n",
    "        parent_dictionary[\"Region\"].append(patient_dictionary[\"Region\"][i])\n",
    "        parent_dictionary[\"Charges\"].append(patient_dictionary[\"Charges\"][i])\n",
    "    \n",
    "    if patient_dictionary[\"Children\"][i] == 0:\n",
    "        nonparent_dictionary[\"Ages\"].append(patient_dictionary[\"Ages\"][i])\n",
    "        nonparent_dictionary[\"Sexes\"].append(patient_dictionary[\"Sexes\"][i])\n",
    "        nonparent_dictionary[\"BMIs\"].append(patient_dictionary[\"BMIs\"][i])\n",
    "        nonparent_dictionary[\"Children\"].append(patient_dictionary[\"Children\"][i])\n",
    "        nonparent_dictionary[\"Smoker\"].append(patient_dictionary[\"Smoker\"][i])\n",
    "        nonparent_dictionary[\"Region\"].append(patient_dictionary[\"Region\"][i])\n",
    "        nonparent_dictionary[\"Charges\"].append(patient_dictionary[\"Charges\"][i])\n",
    "\n",
    "\n",
    "#Now that i have dictionaries for several demographics, i can use my class to analyze each group more in depth\n"
   ]
  },
  {
   "cell_type": "code",
   "execution_count": 109,
   "metadata": {},
   "outputs": [
    {
     "output_type": "stream",
     "name": "stdout",
     "text": [
      "For males, \nThere are 676 patients in this data set\nAverage patient age: 38.917159763313606\nAverage Patient BMI: 30.943128698224832\nThere are 676 males and 0 females in this data set.\nThere are 159 smokers and 517 non-smokers\nThe average patient has 1.1153846153846154 children\nAverage Charges: 13956.751177721886 dollars\n"
     ]
    }
   ],
   "source": [
    "male_data = PatientData(male_dictionary[\"Ages\"], male_dictionary[\"Sexes\"], male_dictionary[\"BMIs\"], male_dictionary[\"Children\"], male_dictionary[\"Smoker\"], male_dictionary[\"Region\"], male_dictionary[\"Charges\"])\n",
    "print(\"For males, \" + '\\n' + male_data.population() + '\\n' + male_data.average_age() + '\\n' + male_data.average_bmi()\n",
    "+ '\\n' + male_data.sex_dist() + '\\n' + male_data.num_smokers() + '\\n' + male_data.average_num_children() + '\\n' + male_data.average_charges())"
   ]
  },
  {
   "cell_type": "code",
   "execution_count": 110,
   "metadata": {},
   "outputs": [
    {
     "output_type": "stream",
     "name": "stdout",
     "text": [
      "For females, \nThere are 662 patients in this data set\nAverage patient age: 39.503021148036254\nAverage Patient BMI: 30.377749244713023\nThere are 0 males and 662 females in this data set.\nThere are 115 smokers and 547 non-smokers\nThe average patient has 1.0740181268882176 children\nAverage Charges: 12569.57884383534 dollars\n"
     ]
    }
   ],
   "source": [
    "female_data = PatientData(female_dictionary[\"Ages\"], female_dictionary[\"Sexes\"], female_dictionary[\"BMIs\"], female_dictionary[\"Children\"], female_dictionary[\"Smoker\"], female_dictionary[\"Region\"], female_dictionary[\"Charges\"])\n",
    "print(\"For females, \" + '\\n' + female_data.population() + '\\n' + female_data.average_age() + '\\n' + female_data.average_bmi()\n",
    "+ '\\n' + female_data.sex_dist() + '\\n' + female_data.num_smokers() + '\\n' + female_data.average_num_children() + '\\n' + female_data.average_charges())"
   ]
  },
  {
   "cell_type": "code",
   "execution_count": 111,
   "metadata": {},
   "outputs": [
    {
     "output_type": "stream",
     "name": "stdout",
     "text": [
      "For smokers, \nThere are 274 patients in this data set\nAverage patient age: 38.51459854014598\nAverage Patient BMI: 30.708448905109503\nThere are 159 males and 115 females in this data set.\nThere are 274 smokers and 0 non-smokers\nThe average patient has 1.1131386861313868 children\nAverage Charges: 32050.23183153285 dollars\n"
     ]
    }
   ],
   "source": [
    "smoker_data = PatientData(smoker_dictionary[\"Ages\"], smoker_dictionary[\"Sexes\"], smoker_dictionary[\"BMIs\"], smoker_dictionary[\"Children\"], smoker_dictionary[\"Smoker\"], smoker_dictionary[\"Region\"], smoker_dictionary[\"Charges\"])\n",
    "print(\"For smokers, \" + '\\n' + smoker_data.population() + '\\n' + smoker_data.average_age() + '\\n' + smoker_data.average_bmi()\n",
    "+ '\\n' + smoker_data.sex_dist() + '\\n' + smoker_data.num_smokers() + '\\n' + smoker_data.average_num_children() + '\\n' + smoker_data.average_charges())"
   ]
  },
  {
   "cell_type": "code",
   "execution_count": 112,
   "metadata": {},
   "outputs": [
    {
     "output_type": "stream",
     "name": "stdout",
     "text": [
      "For non-smokers, \nThere are 1064 patients in this data set\nAverage patient age: 39.38533834586466\nAverage Patient BMI: 30.651795112781922\nThere are 517 males and 547 females in this data set.\nThere are 0 smokers and 1064 non-smokers\nThe average patient has 1.0902255639097744 children\nAverage Charges: 8434.268297856199 dollars\n"
     ]
    }
   ],
   "source": [
    "nonsmoker_data = PatientData(nonsmoker_dictionary[\"Ages\"], nonsmoker_dictionary[\"Sexes\"], nonsmoker_dictionary[\"BMIs\"], nonsmoker_dictionary[\"Children\"], nonsmoker_dictionary[\"Smoker\"], nonsmoker_dictionary[\"Region\"], nonsmoker_dictionary[\"Charges\"])\n",
    "print(\"For non-smokers, \" + '\\n' + nonsmoker_data.population() + '\\n' + nonsmoker_data.average_age() + '\\n' + nonsmoker_data.average_bmi()\n",
    "+ '\\n' + nonsmoker_data.sex_dist() + '\\n' + nonsmoker_data.num_smokers() + '\\n' + nonsmoker_data.average_num_children() + '\\n' + nonsmoker_data.average_charges())"
   ]
  },
  {
   "cell_type": "code",
   "execution_count": 113,
   "metadata": {},
   "outputs": [
    {
     "output_type": "stream",
     "name": "stdout",
     "text": [
      "For Parents, \nThere are 764 patients in this data set\nAverage patient age: 39.78010471204188\nAverage Patient BMI: 30.748370418848165\nThere are 391 males and 373 females in this data set.\nThere are 159 smokers and 605 non-smokers\nThe average patient has 1.9175392670157068 children\nAverage Charges: 13949.94109348167 dollars\n"
     ]
    }
   ],
   "source": [
    "parent_data = PatientData(parent_dictionary[\"Ages\"], parent_dictionary[\"Sexes\"], parent_dictionary[\"BMIs\"], parent_dictionary[\"Children\"], parent_dictionary[\"Smoker\"], parent_dictionary[\"Region\"], parent_dictionary[\"Charges\"])\n",
    "print(\"For Parents, \" + '\\n' + parent_data.population() + '\\n' + parent_data.average_age() + '\\n' + parent_data.average_bmi()\n",
    "+ '\\n' + parent_data.sex_dist() + '\\n' + parent_data.num_smokers() + '\\n' + parent_data.average_num_children() + '\\n' + parent_data.average_charges())"
   ]
  },
  {
   "cell_type": "code",
   "execution_count": 114,
   "metadata": {},
   "outputs": [
    {
     "output_type": "stream",
     "name": "stdout",
     "text": [
      "For non-Parents, \nThere are 574 patients in this data set\nAverage patient age: 38.444250871080136\nAverage Patient BMI: 30.550296167247392\nThere are 285 males and 289 females in this data set.\nThere are 115 smokers and 459 non-smokers\nThe average patient has 0.0 children\nAverage Charges: 12365.975601635882 dollars\n"
     ]
    }
   ],
   "source": [
    "nonparent_data = PatientData(nonparent_dictionary[\"Ages\"], nonparent_dictionary[\"Sexes\"], nonparent_dictionary[\"BMIs\"], nonparent_dictionary[\"Children\"], nonparent_dictionary[\"Smoker\"], nonparent_dictionary[\"Region\"], nonparent_dictionary[\"Charges\"])\n",
    "print(\"For non-Parents, \" + '\\n' + nonparent_data.population() + '\\n' + nonparent_data.average_age() + '\\n' + nonparent_data.average_bmi()\n",
    "+ '\\n' + nonparent_data.sex_dist() + '\\n' + nonparent_data.num_smokers() + '\\n' + nonparent_data.average_num_children() + '\\n' + nonparent_data.average_charges())"
   ]
  }
 ],
 "metadata": {
  "kernelspec": {
   "display_name": "Python 3",
   "language": "python",
   "name": "python3"
  },
  "language_info": {
   "codemirror_mode": {
    "name": "ipython",
    "version": 3
   },
   "file_extension": ".py",
   "mimetype": "text/x-python",
   "name": "python",
   "nbconvert_exporter": "python",
   "pygments_lexer": "ipython3",
   "version": "3.8.5-final"
  }
 },
 "nbformat": 4,
 "nbformat_minor": 4
}